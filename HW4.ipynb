{
 "cells": [
  {
   "cell_type": "markdown",
   "metadata": {},
   "source": [
    "# HW4 : A visit to the movie zoo!\n",
    "\n",
    "![](https://vignette.wikia.nocookie.net/bojackhorseman/images/f/f2/HSACWDTK%3FDTKT%3FLFO%21%21.png/revision/latest?cb=20150720050503)"
   ]
  },
  {
   "cell_type": "markdown",
   "metadata": {},
   "source": [
    "## Task\n",
    "In this homework, your task is to visualize THREE non-typical charts on anything related to your favorite **movie star!**\n",
    "This means you CANNOT use the Big 4 chart types or their close variants (i.e. Pie, Bar, Line and Scatter, Area, etc.)\n",
    "\n",
    "You are free to use any other chart type whether or not they were covered in class!\n",
    "The lecture on Visit To The Zoo is a good place to start to get ideas on what kinds of charts exist.\n",
    "\n",
    "For the data, you are free to use any data source you deem fit.\n",
    "For charting, we will NOT be constraining the technology you use. \n",
    "You are free to produce the charts in any way you would like.\n",
    "\n",
    "You will be judged on\n",
    "* Creativity\n",
    "* Presentation Quality\n",
    "* Data Quality (Did your visualization reveal something interesting?)\n",
    "\n",
    "For extra credit, you can make a fully interactive visualization."
   ]
  },
  {
   "cell_type": "markdown",
   "metadata": {},
   "source": [
    "## Ideas for Data Collection\n",
    "\n",
    "Here, we show an example of how to collect data about Arnold Schwarzenegger!\n",
    "Do note that this is just an example of the kind of data you can collect.\n",
    "You are **NOT** constrained\n",
    "* To the same movie star (you can pick your own!)\n",
    "* To the same *kind* of data\n",
    "* To the same data sources\n",
    "* or to anything else!\n",
    "\n",
    "This assignment gives you the power to do what you like!"
   ]
  },
  {
   "cell_type": "code",
   "execution_count": 1,
   "metadata": {},
   "outputs": [],
   "source": [
    "from imdbpie import ImdbFacade\n",
    "from IPython.core.display import display, HTML\n",
    "from bs4 import BeautifulSoup\n",
    "import urllib.request\n",
    "import re"
   ]
  },
  {
   "cell_type": "markdown",
   "metadata": {},
   "source": [
    "#### Get data for Arnold Schwarzenegger"
   ]
  },
  {
   "cell_type": "code",
   "execution_count": 3,
   "metadata": {},
   "outputs": [
    {
     "name": "stdout",
     "output_type": "stream",
     "text": [
      "(NameSearchResult(imdb_id='nm0000179', name='Jude Law (I)'), NameSearchResult(imdb_id='nm10327606', name='Jude Law'), NameSearchResult(imdb_id='nm3650704', name='Lou de Laâge'), NameSearchResult(imdb_id='nm5540978', name='Cerro De la Wade'), NameSearchResult(imdb_id='nm0431882', name='Charles Judels'), NameSearchResult(imdb_id='nm0216587', name='Yasmine Delawari'), NameSearchResult(imdb_id='nm0492775', name='Gertrude Lawrence'))\n"
     ]
    }
   ],
   "source": [
    "# Get an instance of IMDb class\n",
    "imdb = ImdbFacade()\n",
    "\n",
    "# Search for Arnold Schwarzenegger\n",
    "people = imdb.search_for_name('Jude Law')\n",
    "print(people)"
   ]
  },
  {
   "cell_type": "code",
   "execution_count": 8,
   "metadata": {},
   "outputs": [
    {
     "name": "stdout",
     "output_type": "stream",
     "text": [
      "bios\n",
      "birth_place\n",
      "date_of_birth\n",
      "filmography\n",
      "gender\n",
      "image\n",
      "imdb_id\n",
      "name\n"
     ]
    }
   ],
   "source": [
    "# Fetch information about him\n",
    "jude = imdb.get_name(people[0].imdb_id)\n",
    "\n",
    "# What information do I have about him?\n",
    "print('\\n'.join([x for x in dir(jude) if not x.startswith('__')]))"
   ]
  },
  {
   "cell_type": "code",
   "execution_count": 24,
   "metadata": {},
   "outputs": [],
   "source": [
    "jude_involved= list(jude.filmography)"
   ]
  },
  {
   "cell_type": "code",
   "execution_count": 29,
   "metadata": {},
   "outputs": [
    {
     "ename": "KeyboardInterrupt",
     "evalue": "",
     "output_type": "error",
     "traceback": [
      "\u001b[1;31m---------------------------------------------------------------------------\u001b[0m",
      "\u001b[1;31mKeyboardInterrupt\u001b[0m                         Traceback (most recent call last)",
      "\u001b[1;32m<ipython-input-29-0fa0e16ffe62>\u001b[0m in \u001b[0;36m<module>\u001b[1;34m\u001b[0m\n\u001b[0;32m      2\u001b[0m \u001b[1;32mfor\u001b[0m \u001b[0mimdb_id\u001b[0m \u001b[1;32min\u001b[0m \u001b[0mjude_involved\u001b[0m\u001b[1;33m:\u001b[0m\u001b[1;33m\u001b[0m\u001b[1;33m\u001b[0m\u001b[0m\n\u001b[0;32m      3\u001b[0m     \u001b[1;32mtry\u001b[0m\u001b[1;33m:\u001b[0m\u001b[1;33m\u001b[0m\u001b[1;33m\u001b[0m\u001b[0m\n\u001b[1;32m----> 4\u001b[1;33m         \u001b[0mjude_involved_imdb\u001b[0m\u001b[1;33m.\u001b[0m\u001b[0mappend\u001b[0m\u001b[1;33m(\u001b[0m\u001b[0mimdb\u001b[0m\u001b[1;33m.\u001b[0m\u001b[0mget_title\u001b[0m\u001b[1;33m(\u001b[0m\u001b[0mimdb_id\u001b[0m\u001b[1;33m)\u001b[0m\u001b[1;33m)\u001b[0m\u001b[1;33m\u001b[0m\u001b[1;33m\u001b[0m\u001b[0m\n\u001b[0m\u001b[0;32m      5\u001b[0m     \u001b[1;32mexcept\u001b[0m \u001b[0mLookupError\u001b[0m\u001b[1;33m:\u001b[0m\u001b[1;33m\u001b[0m\u001b[1;33m\u001b[0m\u001b[0m\n\u001b[0;32m      6\u001b[0m         \u001b[1;32mcontinue\u001b[0m\u001b[1;33m\u001b[0m\u001b[1;33m\u001b[0m\u001b[0m\n",
      "\u001b[1;32m~\\Anaconda3\\lib\\site-packages\\imdbpie\\facade.py\u001b[0m in \u001b[0;36mget_title\u001b[1;34m(self, imdb_id)\u001b[0m\n\u001b[0;32m     21\u001b[0m \u001b[1;33m\u001b[0m\u001b[0m\n\u001b[0;32m     22\u001b[0m     \u001b[1;32mdef\u001b[0m \u001b[0mget_title\u001b[0m\u001b[1;33m(\u001b[0m\u001b[0mself\u001b[0m\u001b[1;33m,\u001b[0m \u001b[0mimdb_id\u001b[0m\u001b[1;33m)\u001b[0m\u001b[1;33m:\u001b[0m\u001b[1;33m\u001b[0m\u001b[1;33m\u001b[0m\u001b[0m\n\u001b[1;32m---> 23\u001b[1;33m         \u001b[0mtitle_data\u001b[0m\u001b[1;33m,\u001b[0m \u001b[0mtitle_aux_data\u001b[0m \u001b[1;33m=\u001b[0m \u001b[0mself\u001b[0m\u001b[1;33m.\u001b[0m\u001b[0m_get_title_data\u001b[0m\u001b[1;33m(\u001b[0m\u001b[0mimdb_id\u001b[0m\u001b[1;33m=\u001b[0m\u001b[0mimdb_id\u001b[0m\u001b[1;33m)\u001b[0m\u001b[1;33m\u001b[0m\u001b[1;33m\u001b[0m\u001b[0m\n\u001b[0m\u001b[0;32m     24\u001b[0m         \u001b[1;32mtry\u001b[0m\u001b[1;33m:\u001b[0m\u001b[1;33m\u001b[0m\u001b[1;33m\u001b[0m\u001b[0m\n\u001b[0;32m     25\u001b[0m             \u001b[0mruntime\u001b[0m \u001b[1;33m=\u001b[0m \u001b[0mtitle_aux_data\u001b[0m\u001b[1;33m[\u001b[0m\u001b[1;34m'runningTimes'\u001b[0m\u001b[1;33m]\u001b[0m\u001b[1;33m[\u001b[0m\u001b[1;36m0\u001b[0m\u001b[1;33m]\u001b[0m\u001b[1;33m[\u001b[0m\u001b[1;34m'timeMinutes'\u001b[0m\u001b[1;33m]\u001b[0m\u001b[1;33m\u001b[0m\u001b[1;33m\u001b[0m\u001b[0m\n",
      "\u001b[1;32m~\\Anaconda3\\lib\\site-packages\\imdbpie\\facade.py\u001b[0m in \u001b[0;36m_get_title_data\u001b[1;34m(self, imdb_id)\u001b[0m\n\u001b[0;32m    155\u001b[0m \u001b[1;33m\u001b[0m\u001b[0m\n\u001b[0;32m    156\u001b[0m     \u001b[1;32mdef\u001b[0m \u001b[0m_get_title_data\u001b[0m\u001b[1;33m(\u001b[0m\u001b[0mself\u001b[0m\u001b[1;33m,\u001b[0m \u001b[0mimdb_id\u001b[0m\u001b[1;33m)\u001b[0m\u001b[1;33m:\u001b[0m\u001b[1;33m\u001b[0m\u001b[1;33m\u001b[0m\u001b[0m\n\u001b[1;32m--> 157\u001b[1;33m         \u001b[0mbase_title_data\u001b[0m \u001b[1;33m=\u001b[0m \u001b[0mself\u001b[0m\u001b[1;33m.\u001b[0m\u001b[0m_client\u001b[0m\u001b[1;33m.\u001b[0m\u001b[0mget_title\u001b[0m\u001b[1;33m(\u001b[0m\u001b[0mimdb_id\u001b[0m\u001b[1;33m=\u001b[0m\u001b[0mimdb_id\u001b[0m\u001b[1;33m)\u001b[0m\u001b[1;33m\u001b[0m\u001b[1;33m\u001b[0m\u001b[0m\n\u001b[0m\u001b[0;32m    158\u001b[0m         \u001b[0mtop_crew_data\u001b[0m \u001b[1;33m=\u001b[0m \u001b[0mself\u001b[0m\u001b[1;33m.\u001b[0m\u001b[0m_client\u001b[0m\u001b[1;33m.\u001b[0m\u001b[0mget_title_top_crew\u001b[0m\u001b[1;33m(\u001b[0m\u001b[0mimdb_id\u001b[0m\u001b[1;33m=\u001b[0m\u001b[0mimdb_id\u001b[0m\u001b[1;33m)\u001b[0m\u001b[1;33m\u001b[0m\u001b[1;33m\u001b[0m\u001b[0m\n\u001b[0;32m    159\u001b[0m         \u001b[0mtitle_aux_data\u001b[0m \u001b[1;33m=\u001b[0m \u001b[0mself\u001b[0m\u001b[1;33m.\u001b[0m\u001b[0m_client\u001b[0m\u001b[1;33m.\u001b[0m\u001b[0mget_title_auxiliary\u001b[0m\u001b[1;33m(\u001b[0m\u001b[0mimdb_id\u001b[0m\u001b[1;33m=\u001b[0m\u001b[0mimdb_id\u001b[0m\u001b[1;33m)\u001b[0m\u001b[1;33m\u001b[0m\u001b[1;33m\u001b[0m\u001b[0m\n",
      "\u001b[1;32m~\\Anaconda3\\lib\\site-packages\\imdbpie\\imdbpie.py\u001b[0m in \u001b[0;36mget_title\u001b[1;34m(self, imdb_id)\u001b[0m\n\u001b[0;32m     76\u001b[0m         \u001b[0mlogger\u001b[0m\u001b[1;33m.\u001b[0m\u001b[0minfo\u001b[0m\u001b[1;33m(\u001b[0m\u001b[1;34m'called get_title %s'\u001b[0m\u001b[1;33m,\u001b[0m \u001b[0mimdb_id\u001b[0m\u001b[1;33m)\u001b[0m\u001b[1;33m\u001b[0m\u001b[1;33m\u001b[0m\u001b[0m\n\u001b[0;32m     77\u001b[0m         \u001b[0mself\u001b[0m\u001b[1;33m.\u001b[0m\u001b[0mvalidate_imdb_id\u001b[0m\u001b[1;33m(\u001b[0m\u001b[0mimdb_id\u001b[0m\u001b[1;33m)\u001b[0m\u001b[1;33m\u001b[0m\u001b[1;33m\u001b[0m\u001b[0m\n\u001b[1;32m---> 78\u001b[1;33m         \u001b[0mself\u001b[0m\u001b[1;33m.\u001b[0m\u001b[0m_redirection_title_check\u001b[0m\u001b[1;33m(\u001b[0m\u001b[0mimdb_id\u001b[0m\u001b[1;33m)\u001b[0m\u001b[1;33m\u001b[0m\u001b[1;33m\u001b[0m\u001b[0m\n\u001b[0m\u001b[0;32m     79\u001b[0m         \u001b[1;32mtry\u001b[0m\u001b[1;33m:\u001b[0m\u001b[1;33m\u001b[0m\u001b[1;33m\u001b[0m\u001b[0m\n\u001b[0;32m     80\u001b[0m             resource = self._get_resource(\n",
      "\u001b[1;32m~\\Anaconda3\\lib\\site-packages\\imdbpie\\imdbpie.py\u001b[0m in \u001b[0;36m_redirection_title_check\u001b[1;34m(self, imdb_id)\u001b[0m\n\u001b[0;32m    327\u001b[0m \u001b[1;33m\u001b[0m\u001b[0m\n\u001b[0;32m    328\u001b[0m     \u001b[1;32mdef\u001b[0m \u001b[0m_redirection_title_check\u001b[0m\u001b[1;33m(\u001b[0m\u001b[0mself\u001b[0m\u001b[1;33m,\u001b[0m \u001b[0mimdb_id\u001b[0m\u001b[1;33m)\u001b[0m\u001b[1;33m:\u001b[0m\u001b[1;33m\u001b[0m\u001b[1;33m\u001b[0m\u001b[0m\n\u001b[1;32m--> 329\u001b[1;33m         \u001b[1;32mif\u001b[0m \u001b[0mself\u001b[0m\u001b[1;33m.\u001b[0m\u001b[0mis_redirection_title\u001b[0m\u001b[1;33m(\u001b[0m\u001b[0mimdb_id\u001b[0m\u001b[1;33m)\u001b[0m\u001b[1;33m:\u001b[0m\u001b[1;33m\u001b[0m\u001b[1;33m\u001b[0m\u001b[0m\n\u001b[0m\u001b[0;32m    330\u001b[0m             self._title_not_found(\n\u001b[0;32m    331\u001b[0m                 \u001b[0mmsg\u001b[0m\u001b[1;33m=\u001b[0m\u001b[1;34m'{0} is a redirection imdb id'\u001b[0m\u001b[1;33m.\u001b[0m\u001b[0mformat\u001b[0m\u001b[1;33m(\u001b[0m\u001b[0mimdb_id\u001b[0m\u001b[1;33m)\u001b[0m\u001b[1;33m\u001b[0m\u001b[1;33m\u001b[0m\u001b[0m\n",
      "\u001b[1;32m~\\Anaconda3\\lib\\site-packages\\imdbpie\\imdbpie.py\u001b[0m in \u001b[0;36mis_redirection_title\u001b[1;34m(self, imdb_id)\u001b[0m\n\u001b[0;32m    335\u001b[0m         \u001b[0mself\u001b[0m\u001b[1;33m.\u001b[0m\u001b[0mvalidate_imdb_id\u001b[0m\u001b[1;33m(\u001b[0m\u001b[0mimdb_id\u001b[0m\u001b[1;33m)\u001b[0m\u001b[1;33m\u001b[0m\u001b[1;33m\u001b[0m\u001b[0m\n\u001b[0;32m    336\u001b[0m         \u001b[0mpage_url\u001b[0m \u001b[1;33m=\u001b[0m \u001b[1;34m'https://www.imdb.com/title/{0}/'\u001b[0m\u001b[1;33m.\u001b[0m\u001b[0mformat\u001b[0m\u001b[1;33m(\u001b[0m\u001b[0mimdb_id\u001b[0m\u001b[1;33m)\u001b[0m\u001b[1;33m\u001b[0m\u001b[1;33m\u001b[0m\u001b[0m\n\u001b[1;32m--> 337\u001b[1;33m         \u001b[0mresponse\u001b[0m \u001b[1;33m=\u001b[0m \u001b[0mself\u001b[0m\u001b[1;33m.\u001b[0m\u001b[0msession\u001b[0m\u001b[1;33m.\u001b[0m\u001b[0mget\u001b[0m\u001b[1;33m(\u001b[0m\u001b[0mpage_url\u001b[0m\u001b[1;33m,\u001b[0m \u001b[0mallow_redirects\u001b[0m\u001b[1;33m=\u001b[0m\u001b[1;32mFalse\u001b[0m\u001b[1;33m)\u001b[0m\u001b[1;33m\u001b[0m\u001b[1;33m\u001b[0m\u001b[0m\n\u001b[0m\u001b[0;32m    338\u001b[0m         \u001b[1;32mif\u001b[0m \u001b[0mresponse\u001b[0m\u001b[1;33m.\u001b[0m\u001b[0mstatus_code\u001b[0m \u001b[1;33m==\u001b[0m \u001b[0mhttplib\u001b[0m\u001b[1;33m.\u001b[0m\u001b[0mMOVED_PERMANENTLY\u001b[0m\u001b[1;33m:\u001b[0m\u001b[1;33m\u001b[0m\u001b[1;33m\u001b[0m\u001b[0m\n\u001b[0;32m    339\u001b[0m             \u001b[1;32mreturn\u001b[0m \u001b[1;32mTrue\u001b[0m\u001b[1;33m\u001b[0m\u001b[1;33m\u001b[0m\u001b[0m\n",
      "\u001b[1;32m~\\Anaconda3\\lib\\site-packages\\requests\\sessions.py\u001b[0m in \u001b[0;36mget\u001b[1;34m(self, url, **kwargs)\u001b[0m\n\u001b[0;32m    544\u001b[0m \u001b[1;33m\u001b[0m\u001b[0m\n\u001b[0;32m    545\u001b[0m         \u001b[0mkwargs\u001b[0m\u001b[1;33m.\u001b[0m\u001b[0msetdefault\u001b[0m\u001b[1;33m(\u001b[0m\u001b[1;34m'allow_redirects'\u001b[0m\u001b[1;33m,\u001b[0m \u001b[1;32mTrue\u001b[0m\u001b[1;33m)\u001b[0m\u001b[1;33m\u001b[0m\u001b[1;33m\u001b[0m\u001b[0m\n\u001b[1;32m--> 546\u001b[1;33m         \u001b[1;32mreturn\u001b[0m \u001b[0mself\u001b[0m\u001b[1;33m.\u001b[0m\u001b[0mrequest\u001b[0m\u001b[1;33m(\u001b[0m\u001b[1;34m'GET'\u001b[0m\u001b[1;33m,\u001b[0m \u001b[0murl\u001b[0m\u001b[1;33m,\u001b[0m \u001b[1;33m**\u001b[0m\u001b[0mkwargs\u001b[0m\u001b[1;33m)\u001b[0m\u001b[1;33m\u001b[0m\u001b[1;33m\u001b[0m\u001b[0m\n\u001b[0m\u001b[0;32m    547\u001b[0m \u001b[1;33m\u001b[0m\u001b[0m\n\u001b[0;32m    548\u001b[0m     \u001b[1;32mdef\u001b[0m \u001b[0moptions\u001b[0m\u001b[1;33m(\u001b[0m\u001b[0mself\u001b[0m\u001b[1;33m,\u001b[0m \u001b[0murl\u001b[0m\u001b[1;33m,\u001b[0m \u001b[1;33m**\u001b[0m\u001b[0mkwargs\u001b[0m\u001b[1;33m)\u001b[0m\u001b[1;33m:\u001b[0m\u001b[1;33m\u001b[0m\u001b[1;33m\u001b[0m\u001b[0m\n",
      "\u001b[1;32m~\\Anaconda3\\lib\\site-packages\\requests\\sessions.py\u001b[0m in \u001b[0;36mrequest\u001b[1;34m(self, method, url, params, data, headers, cookies, files, auth, timeout, allow_redirects, proxies, hooks, stream, verify, cert, json)\u001b[0m\n\u001b[0;32m    531\u001b[0m         }\n\u001b[0;32m    532\u001b[0m         \u001b[0msend_kwargs\u001b[0m\u001b[1;33m.\u001b[0m\u001b[0mupdate\u001b[0m\u001b[1;33m(\u001b[0m\u001b[0msettings\u001b[0m\u001b[1;33m)\u001b[0m\u001b[1;33m\u001b[0m\u001b[1;33m\u001b[0m\u001b[0m\n\u001b[1;32m--> 533\u001b[1;33m         \u001b[0mresp\u001b[0m \u001b[1;33m=\u001b[0m \u001b[0mself\u001b[0m\u001b[1;33m.\u001b[0m\u001b[0msend\u001b[0m\u001b[1;33m(\u001b[0m\u001b[0mprep\u001b[0m\u001b[1;33m,\u001b[0m \u001b[1;33m**\u001b[0m\u001b[0msend_kwargs\u001b[0m\u001b[1;33m)\u001b[0m\u001b[1;33m\u001b[0m\u001b[1;33m\u001b[0m\u001b[0m\n\u001b[0m\u001b[0;32m    534\u001b[0m \u001b[1;33m\u001b[0m\u001b[0m\n\u001b[0;32m    535\u001b[0m         \u001b[1;32mreturn\u001b[0m \u001b[0mresp\u001b[0m\u001b[1;33m\u001b[0m\u001b[1;33m\u001b[0m\u001b[0m\n",
      "\u001b[1;32m~\\Anaconda3\\lib\\site-packages\\requests\\sessions.py\u001b[0m in \u001b[0;36msend\u001b[1;34m(self, request, **kwargs)\u001b[0m\n\u001b[0;32m    644\u001b[0m \u001b[1;33m\u001b[0m\u001b[0m\n\u001b[0;32m    645\u001b[0m         \u001b[1;31m# Send the request\u001b[0m\u001b[1;33m\u001b[0m\u001b[1;33m\u001b[0m\u001b[1;33m\u001b[0m\u001b[0m\n\u001b[1;32m--> 646\u001b[1;33m         \u001b[0mr\u001b[0m \u001b[1;33m=\u001b[0m \u001b[0madapter\u001b[0m\u001b[1;33m.\u001b[0m\u001b[0msend\u001b[0m\u001b[1;33m(\u001b[0m\u001b[0mrequest\u001b[0m\u001b[1;33m,\u001b[0m \u001b[1;33m**\u001b[0m\u001b[0mkwargs\u001b[0m\u001b[1;33m)\u001b[0m\u001b[1;33m\u001b[0m\u001b[1;33m\u001b[0m\u001b[0m\n\u001b[0m\u001b[0;32m    647\u001b[0m \u001b[1;33m\u001b[0m\u001b[0m\n\u001b[0;32m    648\u001b[0m         \u001b[1;31m# Total elapsed time of the request (approximately)\u001b[0m\u001b[1;33m\u001b[0m\u001b[1;33m\u001b[0m\u001b[1;33m\u001b[0m\u001b[0m\n",
      "\u001b[1;32m~\\Anaconda3\\lib\\site-packages\\requests\\adapters.py\u001b[0m in \u001b[0;36msend\u001b[1;34m(self, request, stream, timeout, verify, cert, proxies)\u001b[0m\n\u001b[0;32m    447\u001b[0m                     \u001b[0mdecode_content\u001b[0m\u001b[1;33m=\u001b[0m\u001b[1;32mFalse\u001b[0m\u001b[1;33m,\u001b[0m\u001b[1;33m\u001b[0m\u001b[1;33m\u001b[0m\u001b[0m\n\u001b[0;32m    448\u001b[0m                     \u001b[0mretries\u001b[0m\u001b[1;33m=\u001b[0m\u001b[0mself\u001b[0m\u001b[1;33m.\u001b[0m\u001b[0mmax_retries\u001b[0m\u001b[1;33m,\u001b[0m\u001b[1;33m\u001b[0m\u001b[1;33m\u001b[0m\u001b[0m\n\u001b[1;32m--> 449\u001b[1;33m                     \u001b[0mtimeout\u001b[0m\u001b[1;33m=\u001b[0m\u001b[0mtimeout\u001b[0m\u001b[1;33m\u001b[0m\u001b[1;33m\u001b[0m\u001b[0m\n\u001b[0m\u001b[0;32m    450\u001b[0m                 )\n\u001b[0;32m    451\u001b[0m \u001b[1;33m\u001b[0m\u001b[0m\n",
      "\u001b[1;32m~\\Anaconda3\\lib\\site-packages\\urllib3\\connectionpool.py\u001b[0m in \u001b[0;36murlopen\u001b[1;34m(self, method, url, body, headers, retries, redirect, assert_same_host, timeout, pool_timeout, release_conn, chunked, body_pos, **response_kw)\u001b[0m\n\u001b[0;32m    670\u001b[0m                 \u001b[0mbody\u001b[0m\u001b[1;33m=\u001b[0m\u001b[0mbody\u001b[0m\u001b[1;33m,\u001b[0m\u001b[1;33m\u001b[0m\u001b[1;33m\u001b[0m\u001b[0m\n\u001b[0;32m    671\u001b[0m                 \u001b[0mheaders\u001b[0m\u001b[1;33m=\u001b[0m\u001b[0mheaders\u001b[0m\u001b[1;33m,\u001b[0m\u001b[1;33m\u001b[0m\u001b[1;33m\u001b[0m\u001b[0m\n\u001b[1;32m--> 672\u001b[1;33m                 \u001b[0mchunked\u001b[0m\u001b[1;33m=\u001b[0m\u001b[0mchunked\u001b[0m\u001b[1;33m,\u001b[0m\u001b[1;33m\u001b[0m\u001b[1;33m\u001b[0m\u001b[0m\n\u001b[0m\u001b[0;32m    673\u001b[0m             )\n\u001b[0;32m    674\u001b[0m \u001b[1;33m\u001b[0m\u001b[0m\n",
      "\u001b[1;32m~\\Anaconda3\\lib\\site-packages\\urllib3\\connectionpool.py\u001b[0m in \u001b[0;36m_make_request\u001b[1;34m(self, conn, method, url, timeout, chunked, **httplib_request_kw)\u001b[0m\n\u001b[0;32m    419\u001b[0m                     \u001b[1;31m# Python 3 (including for exceptions like SystemExit).\u001b[0m\u001b[1;33m\u001b[0m\u001b[1;33m\u001b[0m\u001b[1;33m\u001b[0m\u001b[0m\n\u001b[0;32m    420\u001b[0m                     \u001b[1;31m# Otherwise it looks like a bug in the code.\u001b[0m\u001b[1;33m\u001b[0m\u001b[1;33m\u001b[0m\u001b[1;33m\u001b[0m\u001b[0m\n\u001b[1;32m--> 421\u001b[1;33m                     \u001b[0msix\u001b[0m\u001b[1;33m.\u001b[0m\u001b[0mraise_from\u001b[0m\u001b[1;33m(\u001b[0m\u001b[0me\u001b[0m\u001b[1;33m,\u001b[0m \u001b[1;32mNone\u001b[0m\u001b[1;33m)\u001b[0m\u001b[1;33m\u001b[0m\u001b[1;33m\u001b[0m\u001b[0m\n\u001b[0m\u001b[0;32m    422\u001b[0m         \u001b[1;32mexcept\u001b[0m \u001b[1;33m(\u001b[0m\u001b[0mSocketTimeout\u001b[0m\u001b[1;33m,\u001b[0m \u001b[0mBaseSSLError\u001b[0m\u001b[1;33m,\u001b[0m \u001b[0mSocketError\u001b[0m\u001b[1;33m)\u001b[0m \u001b[1;32mas\u001b[0m \u001b[0me\u001b[0m\u001b[1;33m:\u001b[0m\u001b[1;33m\u001b[0m\u001b[1;33m\u001b[0m\u001b[0m\n\u001b[0;32m    423\u001b[0m             \u001b[0mself\u001b[0m\u001b[1;33m.\u001b[0m\u001b[0m_raise_timeout\u001b[0m\u001b[1;33m(\u001b[0m\u001b[0merr\u001b[0m\u001b[1;33m=\u001b[0m\u001b[0me\u001b[0m\u001b[1;33m,\u001b[0m \u001b[0murl\u001b[0m\u001b[1;33m=\u001b[0m\u001b[0murl\u001b[0m\u001b[1;33m,\u001b[0m \u001b[0mtimeout_value\u001b[0m\u001b[1;33m=\u001b[0m\u001b[0mread_timeout\u001b[0m\u001b[1;33m)\u001b[0m\u001b[1;33m\u001b[0m\u001b[1;33m\u001b[0m\u001b[0m\n",
      "\u001b[1;32m~\\Anaconda3\\lib\\site-packages\\urllib3\\packages\\six.py\u001b[0m in \u001b[0;36mraise_from\u001b[1;34m(value, from_value)\u001b[0m\n",
      "\u001b[1;32m~\\Anaconda3\\lib\\site-packages\\urllib3\\connectionpool.py\u001b[0m in \u001b[0;36m_make_request\u001b[1;34m(self, conn, method, url, timeout, chunked, **httplib_request_kw)\u001b[0m\n\u001b[0;32m    414\u001b[0m                 \u001b[1;31m# Python 3\u001b[0m\u001b[1;33m\u001b[0m\u001b[1;33m\u001b[0m\u001b[1;33m\u001b[0m\u001b[0m\n\u001b[0;32m    415\u001b[0m                 \u001b[1;32mtry\u001b[0m\u001b[1;33m:\u001b[0m\u001b[1;33m\u001b[0m\u001b[1;33m\u001b[0m\u001b[0m\n\u001b[1;32m--> 416\u001b[1;33m                     \u001b[0mhttplib_response\u001b[0m \u001b[1;33m=\u001b[0m \u001b[0mconn\u001b[0m\u001b[1;33m.\u001b[0m\u001b[0mgetresponse\u001b[0m\u001b[1;33m(\u001b[0m\u001b[1;33m)\u001b[0m\u001b[1;33m\u001b[0m\u001b[1;33m\u001b[0m\u001b[0m\n\u001b[0m\u001b[0;32m    417\u001b[0m                 \u001b[1;32mexcept\u001b[0m \u001b[0mBaseException\u001b[0m \u001b[1;32mas\u001b[0m \u001b[0me\u001b[0m\u001b[1;33m:\u001b[0m\u001b[1;33m\u001b[0m\u001b[1;33m\u001b[0m\u001b[0m\n\u001b[0;32m    418\u001b[0m                     \u001b[1;31m# Remove the TypeError from the exception chain in\u001b[0m\u001b[1;33m\u001b[0m\u001b[1;33m\u001b[0m\u001b[1;33m\u001b[0m\u001b[0m\n",
      "\u001b[1;32m~\\Anaconda3\\lib\\http\\client.py\u001b[0m in \u001b[0;36mgetresponse\u001b[1;34m(self)\u001b[0m\n\u001b[0;32m   1319\u001b[0m         \u001b[1;32mtry\u001b[0m\u001b[1;33m:\u001b[0m\u001b[1;33m\u001b[0m\u001b[1;33m\u001b[0m\u001b[0m\n\u001b[0;32m   1320\u001b[0m             \u001b[1;32mtry\u001b[0m\u001b[1;33m:\u001b[0m\u001b[1;33m\u001b[0m\u001b[1;33m\u001b[0m\u001b[0m\n\u001b[1;32m-> 1321\u001b[1;33m                 \u001b[0mresponse\u001b[0m\u001b[1;33m.\u001b[0m\u001b[0mbegin\u001b[0m\u001b[1;33m(\u001b[0m\u001b[1;33m)\u001b[0m\u001b[1;33m\u001b[0m\u001b[1;33m\u001b[0m\u001b[0m\n\u001b[0m\u001b[0;32m   1322\u001b[0m             \u001b[1;32mexcept\u001b[0m \u001b[0mConnectionError\u001b[0m\u001b[1;33m:\u001b[0m\u001b[1;33m\u001b[0m\u001b[1;33m\u001b[0m\u001b[0m\n\u001b[0;32m   1323\u001b[0m                 \u001b[0mself\u001b[0m\u001b[1;33m.\u001b[0m\u001b[0mclose\u001b[0m\u001b[1;33m(\u001b[0m\u001b[1;33m)\u001b[0m\u001b[1;33m\u001b[0m\u001b[1;33m\u001b[0m\u001b[0m\n",
      "\u001b[1;32m~\\Anaconda3\\lib\\http\\client.py\u001b[0m in \u001b[0;36mbegin\u001b[1;34m(self)\u001b[0m\n\u001b[0;32m    294\u001b[0m         \u001b[1;31m# read until we get a non-100 response\u001b[0m\u001b[1;33m\u001b[0m\u001b[1;33m\u001b[0m\u001b[1;33m\u001b[0m\u001b[0m\n\u001b[0;32m    295\u001b[0m         \u001b[1;32mwhile\u001b[0m \u001b[1;32mTrue\u001b[0m\u001b[1;33m:\u001b[0m\u001b[1;33m\u001b[0m\u001b[1;33m\u001b[0m\u001b[0m\n\u001b[1;32m--> 296\u001b[1;33m             \u001b[0mversion\u001b[0m\u001b[1;33m,\u001b[0m \u001b[0mstatus\u001b[0m\u001b[1;33m,\u001b[0m \u001b[0mreason\u001b[0m \u001b[1;33m=\u001b[0m \u001b[0mself\u001b[0m\u001b[1;33m.\u001b[0m\u001b[0m_read_status\u001b[0m\u001b[1;33m(\u001b[0m\u001b[1;33m)\u001b[0m\u001b[1;33m\u001b[0m\u001b[1;33m\u001b[0m\u001b[0m\n\u001b[0m\u001b[0;32m    297\u001b[0m             \u001b[1;32mif\u001b[0m \u001b[0mstatus\u001b[0m \u001b[1;33m!=\u001b[0m \u001b[0mCONTINUE\u001b[0m\u001b[1;33m:\u001b[0m\u001b[1;33m\u001b[0m\u001b[1;33m\u001b[0m\u001b[0m\n\u001b[0;32m    298\u001b[0m                 \u001b[1;32mbreak\u001b[0m\u001b[1;33m\u001b[0m\u001b[1;33m\u001b[0m\u001b[0m\n",
      "\u001b[1;32m~\\Anaconda3\\lib\\http\\client.py\u001b[0m in \u001b[0;36m_read_status\u001b[1;34m(self)\u001b[0m\n\u001b[0;32m    255\u001b[0m \u001b[1;33m\u001b[0m\u001b[0m\n\u001b[0;32m    256\u001b[0m     \u001b[1;32mdef\u001b[0m \u001b[0m_read_status\u001b[0m\u001b[1;33m(\u001b[0m\u001b[0mself\u001b[0m\u001b[1;33m)\u001b[0m\u001b[1;33m:\u001b[0m\u001b[1;33m\u001b[0m\u001b[1;33m\u001b[0m\u001b[0m\n\u001b[1;32m--> 257\u001b[1;33m         \u001b[0mline\u001b[0m \u001b[1;33m=\u001b[0m \u001b[0mstr\u001b[0m\u001b[1;33m(\u001b[0m\u001b[0mself\u001b[0m\u001b[1;33m.\u001b[0m\u001b[0mfp\u001b[0m\u001b[1;33m.\u001b[0m\u001b[0mreadline\u001b[0m\u001b[1;33m(\u001b[0m\u001b[0m_MAXLINE\u001b[0m \u001b[1;33m+\u001b[0m \u001b[1;36m1\u001b[0m\u001b[1;33m)\u001b[0m\u001b[1;33m,\u001b[0m \u001b[1;34m\"iso-8859-1\"\u001b[0m\u001b[1;33m)\u001b[0m\u001b[1;33m\u001b[0m\u001b[1;33m\u001b[0m\u001b[0m\n\u001b[0m\u001b[0;32m    258\u001b[0m         \u001b[1;32mif\u001b[0m \u001b[0mlen\u001b[0m\u001b[1;33m(\u001b[0m\u001b[0mline\u001b[0m\u001b[1;33m)\u001b[0m \u001b[1;33m>\u001b[0m \u001b[0m_MAXLINE\u001b[0m\u001b[1;33m:\u001b[0m\u001b[1;33m\u001b[0m\u001b[1;33m\u001b[0m\u001b[0m\n\u001b[0;32m    259\u001b[0m             \u001b[1;32mraise\u001b[0m \u001b[0mLineTooLong\u001b[0m\u001b[1;33m(\u001b[0m\u001b[1;34m\"status line\"\u001b[0m\u001b[1;33m)\u001b[0m\u001b[1;33m\u001b[0m\u001b[1;33m\u001b[0m\u001b[0m\n",
      "\u001b[1;32m~\\Anaconda3\\lib\\socket.py\u001b[0m in \u001b[0;36mreadinto\u001b[1;34m(self, b)\u001b[0m\n\u001b[0;32m    587\u001b[0m         \u001b[1;32mwhile\u001b[0m \u001b[1;32mTrue\u001b[0m\u001b[1;33m:\u001b[0m\u001b[1;33m\u001b[0m\u001b[1;33m\u001b[0m\u001b[0m\n\u001b[0;32m    588\u001b[0m             \u001b[1;32mtry\u001b[0m\u001b[1;33m:\u001b[0m\u001b[1;33m\u001b[0m\u001b[1;33m\u001b[0m\u001b[0m\n\u001b[1;32m--> 589\u001b[1;33m                 \u001b[1;32mreturn\u001b[0m \u001b[0mself\u001b[0m\u001b[1;33m.\u001b[0m\u001b[0m_sock\u001b[0m\u001b[1;33m.\u001b[0m\u001b[0mrecv_into\u001b[0m\u001b[1;33m(\u001b[0m\u001b[0mb\u001b[0m\u001b[1;33m)\u001b[0m\u001b[1;33m\u001b[0m\u001b[1;33m\u001b[0m\u001b[0m\n\u001b[0m\u001b[0;32m    590\u001b[0m             \u001b[1;32mexcept\u001b[0m \u001b[0mtimeout\u001b[0m\u001b[1;33m:\u001b[0m\u001b[1;33m\u001b[0m\u001b[1;33m\u001b[0m\u001b[0m\n\u001b[0;32m    591\u001b[0m                 \u001b[0mself\u001b[0m\u001b[1;33m.\u001b[0m\u001b[0m_timeout_occurred\u001b[0m \u001b[1;33m=\u001b[0m \u001b[1;32mTrue\u001b[0m\u001b[1;33m\u001b[0m\u001b[1;33m\u001b[0m\u001b[0m\n",
      "\u001b[1;32m~\\Anaconda3\\lib\\site-packages\\urllib3\\contrib\\pyopenssl.py\u001b[0m in \u001b[0;36mrecv_into\u001b[1;34m(self, *args, **kwargs)\u001b[0m\n\u001b[0;32m    311\u001b[0m     \u001b[1;32mdef\u001b[0m \u001b[0mrecv_into\u001b[0m\u001b[1;33m(\u001b[0m\u001b[0mself\u001b[0m\u001b[1;33m,\u001b[0m \u001b[1;33m*\u001b[0m\u001b[0margs\u001b[0m\u001b[1;33m,\u001b[0m \u001b[1;33m**\u001b[0m\u001b[0mkwargs\u001b[0m\u001b[1;33m)\u001b[0m\u001b[1;33m:\u001b[0m\u001b[1;33m\u001b[0m\u001b[1;33m\u001b[0m\u001b[0m\n\u001b[0;32m    312\u001b[0m         \u001b[1;32mtry\u001b[0m\u001b[1;33m:\u001b[0m\u001b[1;33m\u001b[0m\u001b[1;33m\u001b[0m\u001b[0m\n\u001b[1;32m--> 313\u001b[1;33m             \u001b[1;32mreturn\u001b[0m \u001b[0mself\u001b[0m\u001b[1;33m.\u001b[0m\u001b[0mconnection\u001b[0m\u001b[1;33m.\u001b[0m\u001b[0mrecv_into\u001b[0m\u001b[1;33m(\u001b[0m\u001b[1;33m*\u001b[0m\u001b[0margs\u001b[0m\u001b[1;33m,\u001b[0m \u001b[1;33m**\u001b[0m\u001b[0mkwargs\u001b[0m\u001b[1;33m)\u001b[0m\u001b[1;33m\u001b[0m\u001b[1;33m\u001b[0m\u001b[0m\n\u001b[0m\u001b[0;32m    314\u001b[0m         \u001b[1;32mexcept\u001b[0m \u001b[0mOpenSSL\u001b[0m\u001b[1;33m.\u001b[0m\u001b[0mSSL\u001b[0m\u001b[1;33m.\u001b[0m\u001b[0mSysCallError\u001b[0m \u001b[1;32mas\u001b[0m \u001b[0me\u001b[0m\u001b[1;33m:\u001b[0m\u001b[1;33m\u001b[0m\u001b[1;33m\u001b[0m\u001b[0m\n\u001b[0;32m    315\u001b[0m             \u001b[1;32mif\u001b[0m \u001b[0mself\u001b[0m\u001b[1;33m.\u001b[0m\u001b[0msuppress_ragged_eofs\u001b[0m \u001b[1;32mand\u001b[0m \u001b[0me\u001b[0m\u001b[1;33m.\u001b[0m\u001b[0margs\u001b[0m \u001b[1;33m==\u001b[0m \u001b[1;33m(\u001b[0m\u001b[1;33m-\u001b[0m\u001b[1;36m1\u001b[0m\u001b[1;33m,\u001b[0m \u001b[1;34m\"Unexpected EOF\"\u001b[0m\u001b[1;33m)\u001b[0m\u001b[1;33m:\u001b[0m\u001b[1;33m\u001b[0m\u001b[1;33m\u001b[0m\u001b[0m\n",
      "\u001b[1;32m~\\Anaconda3\\lib\\site-packages\\OpenSSL\\SSL.py\u001b[0m in \u001b[0;36mrecv_into\u001b[1;34m(self, buffer, nbytes, flags)\u001b[0m\n\u001b[0;32m   1819\u001b[0m             \u001b[0mresult\u001b[0m \u001b[1;33m=\u001b[0m \u001b[0m_lib\u001b[0m\u001b[1;33m.\u001b[0m\u001b[0mSSL_peek\u001b[0m\u001b[1;33m(\u001b[0m\u001b[0mself\u001b[0m\u001b[1;33m.\u001b[0m\u001b[0m_ssl\u001b[0m\u001b[1;33m,\u001b[0m \u001b[0mbuf\u001b[0m\u001b[1;33m,\u001b[0m \u001b[0mnbytes\u001b[0m\u001b[1;33m)\u001b[0m\u001b[1;33m\u001b[0m\u001b[1;33m\u001b[0m\u001b[0m\n\u001b[0;32m   1820\u001b[0m         \u001b[1;32melse\u001b[0m\u001b[1;33m:\u001b[0m\u001b[1;33m\u001b[0m\u001b[1;33m\u001b[0m\u001b[0m\n\u001b[1;32m-> 1821\u001b[1;33m             \u001b[0mresult\u001b[0m \u001b[1;33m=\u001b[0m \u001b[0m_lib\u001b[0m\u001b[1;33m.\u001b[0m\u001b[0mSSL_read\u001b[0m\u001b[1;33m(\u001b[0m\u001b[0mself\u001b[0m\u001b[1;33m.\u001b[0m\u001b[0m_ssl\u001b[0m\u001b[1;33m,\u001b[0m \u001b[0mbuf\u001b[0m\u001b[1;33m,\u001b[0m \u001b[0mnbytes\u001b[0m\u001b[1;33m)\u001b[0m\u001b[1;33m\u001b[0m\u001b[1;33m\u001b[0m\u001b[0m\n\u001b[0m\u001b[0;32m   1822\u001b[0m         \u001b[0mself\u001b[0m\u001b[1;33m.\u001b[0m\u001b[0m_raise_ssl_error\u001b[0m\u001b[1;33m(\u001b[0m\u001b[0mself\u001b[0m\u001b[1;33m.\u001b[0m\u001b[0m_ssl\u001b[0m\u001b[1;33m,\u001b[0m \u001b[0mresult\u001b[0m\u001b[1;33m)\u001b[0m\u001b[1;33m\u001b[0m\u001b[1;33m\u001b[0m\u001b[0m\n\u001b[0;32m   1823\u001b[0m \u001b[1;33m\u001b[0m\u001b[0m\n",
      "\u001b[1;31mKeyboardInterrupt\u001b[0m: "
     ]
    }
   ],
   "source": [
    "jude_involved_imdb = []\n",
    "for imdb_id in jude_involved:\n",
    "    try:\n",
    "        jude_involved_imdb.append(imdb.get_title(imdb_id))\n",
    "    except LookupError:\n",
    "        continue"
   ]
  },
  {
   "cell_type": "code",
   "execution_count": 28,
   "metadata": {},
   "outputs": [
    {
     "ename": "AttributeError",
     "evalue": "'str' object has no attribute 'type'",
     "output_type": "error",
     "traceback": [
      "\u001b[1;31m---------------------------------------------------------------------------\u001b[0m",
      "\u001b[1;31mAttributeError\u001b[0m                            Traceback (most recent call last)",
      "\u001b[1;32m<ipython-input-28-58d4e903cc77>\u001b[0m in \u001b[0;36m<module>\u001b[1;34m\u001b[0m\n\u001b[1;32m----> 1\u001b[1;33m \u001b[0mjude_films\u001b[0m \u001b[1;33m=\u001b[0m \u001b[1;33m[\u001b[0m\u001b[0mi\u001b[0m \u001b[1;32mfor\u001b[0m \u001b[0mi\u001b[0m \u001b[1;32min\u001b[0m \u001b[0mjude_involved\u001b[0m \u001b[1;32mif\u001b[0m \u001b[0mi\u001b[0m\u001b[1;33m.\u001b[0m\u001b[0mtype\u001b[0m \u001b[1;33m==\u001b[0m \u001b[1;34m'movie'\u001b[0m\u001b[1;33m]\u001b[0m\u001b[1;33m\u001b[0m\u001b[1;33m\u001b[0m\u001b[0m\n\u001b[0m",
      "\u001b[1;32m<ipython-input-28-58d4e903cc77>\u001b[0m in \u001b[0;36m<listcomp>\u001b[1;34m(.0)\u001b[0m\n\u001b[1;32m----> 1\u001b[1;33m \u001b[0mjude_films\u001b[0m \u001b[1;33m=\u001b[0m \u001b[1;33m[\u001b[0m\u001b[0mi\u001b[0m \u001b[1;32mfor\u001b[0m \u001b[0mi\u001b[0m \u001b[1;32min\u001b[0m \u001b[0mjude_involved\u001b[0m \u001b[1;32mif\u001b[0m \u001b[0mi\u001b[0m\u001b[1;33m.\u001b[0m\u001b[0mtype\u001b[0m \u001b[1;33m==\u001b[0m \u001b[1;34m'movie'\u001b[0m\u001b[1;33m]\u001b[0m\u001b[1;33m\u001b[0m\u001b[1;33m\u001b[0m\u001b[0m\n\u001b[0m",
      "\u001b[1;31mAttributeError\u001b[0m: 'str' object has no attribute 'type'"
     ]
    }
   ],
   "source": [
    "jude_films = [i for i in jude_involved_imdb if i.type == 'movie']"
   ]
  },
  {
   "cell_type": "code",
   "execution_count": 25,
   "metadata": {},
   "outputs": [
    {
     "data": {
      "text/plain": [
       "247"
      ]
     },
     "execution_count": 25,
     "metadata": {},
     "output_type": "execute_result"
    }
   ],
   "source": [
    "len(jude_involved)"
   ]
  },
  {
   "cell_type": "code",
   "execution_count": 26,
   "metadata": {},
   "outputs": [],
   "source": [
    "# Let's fetch some more information about a movie\n",
    "sample_movie = imdb.get_title(jude_involved[1])"
   ]
  },
  {
   "cell_type": "code",
   "execution_count": 27,
   "metadata": {},
   "outputs": [
    {
     "data": {
      "text/plain": [
       "Title(imdb_id='tt8338762', title='The Nest', type='movie', certification=None, year=None, genres=('drama',), writers=(TitleName(name='Sean Durkin', category='writer', imdb_id='nm1699934', job=None, characters=()),), creators=(), credits=(TitleName(name='Alistair Anderson', category='special_effects', imdb_id='nm0026326', job='special effects crew', characters=()), TitleName(name='Callum Anderson', category='special_effects', imdb_id='nm8550030', job='special effects crew', characters=()), TitleName(name='John Rafique', category='special_effects', imdb_id='nm0706345', job='special effects supervisor', characters=()), TitleName(name='Chris Watson', category='special_effects', imdb_id='nm1243901', job='special effects technician: UK unit', characters=()), TitleName(name='Nikki Chamberlin', category='miscellaneous', imdb_id='nm3270939', job='production accountant', characters=()), TitleName(name='Dan Chester', category='miscellaneous', imdb_id='nm6636341', job='action vehicle coordinator', characters=()), TitleName(name='Megan Costello', category='miscellaneous', imdb_id='nm9648108', job='production assistant', characters=()), TitleName(name='Tom Cox', category='miscellaneous', imdb_id='nm2387386', job='assistant horsemaster', characters=()), TitleName(name='Boyd Harvey', category='miscellaneous', imdb_id='nm1172255', job='insurance: Media Insurance Brokers', characters=()), TitleName(name='Philip King', category='miscellaneous', imdb_id='nm5072287', job='production coordinator', characters=()), TitleName(name='Emily Kulasa', category='miscellaneous', imdb_id='nm2345990', job='Business Affairs Executive', characters=()), TitleName(name='Emily Kulasa', category='miscellaneous', imdb_id='nm2345990', job='business affairs executive: Canada', characters=()), TitleName(name='Jenny Martin', category='miscellaneous', imdb_id='nm6967920', job='production secretary', characters=()), TitleName(name='Luke Moorcock', category='miscellaneous', imdb_id='nm6062979', job='technical supervisor: Pinewood Digital', characters=()), TitleName(name='Matthew Moss', category='miscellaneous', imdb_id='nm8642886', job='assistant production coordinator', characters=()), TitleName(name='Lola Olutola', category='miscellaneous', imdb_id='nm9732911', job='Skillset Production Trainee', characters=()), TitleName(name='Jesse Peckham', category='miscellaneous', imdb_id='nm1046418', job='Assistant to Jude Law', characters=()), TitleName(name='Tim Powell', category='miscellaneous', imdb_id='nm9987624', job='accounts assistant', characters=()), TitleName(name='Rajan Rayat', category='miscellaneous', imdb_id='nm7672824', job='production assistant', characters=()), TitleName(name='Matthew Rosenberg', category='miscellaneous', imdb_id='nm7989937', job='production finance: Union Bank Entertainment Finance', characters=()), TitleName(name='Harry Rylott', category='miscellaneous', imdb_id='nm7870484', job=\"Director's Assistant\", characters=()), TitleName(name='Ben Santos', category='miscellaneous', imdb_id='nm8552036', job='trainee', characters=()), TitleName(name='Samantha Seivwright', category='miscellaneous', imdb_id='nm6394739', job='horse dept', characters=()), TitleName(name='Ellen Steers', category='miscellaneous', imdb_id='nm6758041', job='Unit Publicist', characters=()), TitleName(name='Craig Thompson', category='miscellaneous', imdb_id='nm9029047', job='main unit medic', characters=()), TitleName(name='James Chambers', category='assistant_director', imdb_id='nm3444971', job='crowd second assistant director', characters=()), TitleName(name='Jodie Cowman', category='assistant_director', imdb_id='nm2402510', job='key second assistant director', characters=()), TitleName(name='Aric Dupere', category='assistant_director', imdb_id='nm1062205', job='key second assistant director: Toronto', characters=()), TitleName(name='Alexander Lloyd', category='assistant_director', imdb_id='nm5784332', job='third assistant director', characters=()), TitleName(name='Matthew Scrivener', category='assistant_director', imdb_id='nm0780152', job='first assistant director', characters=()), TitleName(name='Illias Thoms', category='assistant_director', imdb_id='nm7563304', job='crowd third assistant director: dailies', characters=()), TitleName(name='Mátyás Erdély', category='cinematographer', imdb_id='nm0258799', job=None, characters=()), TitleName(name='Lucy Bright', category='music_department', imdb_id='nm3875636', job='music supervisor', characters=()), TitleName(name='Patty Macmillan', category='music_department', imdb_id='nm4384230', job='music supervisor agent', characters=()), TitleName(name='Carrie Coon', category='actress', imdb_id='nm4689420', job=None, characters=()), TitleName(name='Jude Law', category='actor', imdb_id='nm0000179', job=None, characters=()), TitleName(name='Charlie Shotwell', category='actor', imdb_id='nm6339026', job=None, characters=()), TitleName(name='Adeel Akhtar', category='actor', imdb_id='nm2253821', job=None, characters=()), TitleName(name='Anne Reid', category='actress', imdb_id='nm0717176', job=None, characters=()), TitleName(name='Oona Roche', category='actress', imdb_id='nm5640824', job=None, characters=()), TitleName(name='Michael Culkin', category='actor', imdb_id='nm0191410', job=None, characters=()), TitleName(name='Julian Ferro', category='actor', imdb_id='nm2842369', job=None, characters=()), TitleName(name='James Nelson-Joyce', category='actor', imdb_id='nm5663459', job=None, characters=()), TitleName(name='Polly Allen', category='actress', imdb_id='nm7314877', job=None, characters=()), TitleName(name='Kaisa Hammarlund', category='actress', imdb_id='nm2929105', job=None, characters=()), TitleName(name='Alexandra Moloney', category='actress', imdb_id='nm9131784', job=None, characters=()), TitleName(name='Bernardo Santos', category='actor', imdb_id='nm7441016', job=None, characters=()), TitleName(name='Marcus Cornwall', category='actor', imdb_id='nm9180126', job=None, characters=()), TitleName(name='Andrei Alen', category='actor', imdb_id='nm4347894', job=None, characters=()), TitleName(name='Michel Alexandre Gonzalez', category='actor', imdb_id='nm1011330', job=None, characters=()), TitleName(name='Abby Stretch', category='actress', imdb_id='nm1081031', job=None, characters=()), TitleName(name='Leo Ayres', category='actor', imdb_id='nm1025591', job=None, characters=()), TitleName(name='Tommy Surridge', category='actor', imdb_id='nm1022467', job=None, characters=()), TitleName(name='James Craze', category='actor', imdb_id='nm6403697', job=None, characters=()), TitleName(name='Aimee Lenihan', category='actress', imdb_id='nm2736129', job=None, characters=()), TitleName(name='David Flanagan', category='actor', imdb_id='nm9255119', job=None, characters=()), TitleName(name='Kylie Lenihan', category='actress', imdb_id='nm2735173', job=None, characters=()), TitleName(name='Oliver Gatz', category='actor', imdb_id='nm6071811', job=None, characters=()), TitleName(name='Francesco Piacentini-Smith', category='actor', imdb_id='nm3302220', job=None, characters=()), TitleName(name='Joe Susin', category='set_decorator', imdb_id='nm0839843', job=None, characters=()), TitleName(name='Tilly Scandrett', category='art_director', imdb_id='nm2615664', job=None, characters=()), TitleName(name='Ciara Vernon', category='art_director', imdb_id='nm4485120', job=None, characters=()), TitleName(name='Matthew Price', category='costume_designer', imdb_id='nm3454922', job=None, characters=()), TitleName(name='Phillippe Aichinger', category='camera_department', imdb_id='nm4372435', job='video assist: uk unit', characters=()), TitleName(name='Amy Alicea', category='camera_department', imdb_id='nm7521255', job='Camera Trainee', characters=()), TitleName(name='Cheska Appave', category='camera_department', imdb_id='nm5081558', job='Best Girl Electric: Toronto Unit', characters=()), TitleName(name='Mark Baluk', category='camera_department', imdb_id='nm5047742', job='second assistant camera: toronto', characters=()), TitleName(name='Paul Gordon Benjamin', category='camera_department', imdb_id='nm6561613', job='grip: Toronto Unit', characters=()), TitleName(name='Jonathan Brown', category='camera_department', imdb_id='nm6086299', job='gaffer: toronto unit', characters=()), TitleName(name='Dean Coffey', category='camera_department', imdb_id='nm6413300', job='lighting technician', characters=()), TitleName(name='Andy Cole', category='camera_department', imdb_id='nm0170438', job='gaffer', characters=()), TitleName(name='Ciaran Copelin', category='camera_department', imdb_id='nm0178668', job='first assistant camera: Toronto Unit', characters=()), TitleName(name='Edel Gardner', category='camera_department', imdb_id='nm8905454', job='lighting technician', characters=()), TitleName(name='Patrick Gledhill', category='camera_department', imdb_id='nm0322395', job='genny operator', characters=()), TitleName(name='Gordon J. Goodwin', category='camera_department', imdb_id='nm9640571', job='lighting technician: London Unit', characters=()), TitleName(name='Alan Graham', category='camera_department', imdb_id='nm0333890', job='best boy', characters=()), TitleName(name='Vianney Kernanet-Huggins', category='camera_department', imdb_id='nm8799929', job='electrician: dailies', characters=()), TitleName(name='Bruce Macaulay', category='camera_department', imdb_id='nm0531319', job='Still Photographer: Toronto Unit', characters=()), TitleName(name='Derrick Peters', category='camera_department', imdb_id='nm0003997', job='first assistant camera', characters=()), TitleName(name='Anthony Police', category='camera_department', imdb_id='nm1124545', job='key grip: toronto unit', characters=()), TitleName(name='Aaron Porter', category='camera_department', imdb_id='nm5461542', job='grip trainee', characters=()), TitleName(name='Kev Todd', category='camera_department', imdb_id='nm5390319', job='lighting technician', characters=()), TitleName(name='Marie-Helene Tremblay', category='camera_department', imdb_id='nm0871948', job='Camera Loader: Toronto Unit', characters=()), TitleName(name='Alex Underwood', category='camera_department', imdb_id='nm9048065', job='additional electrician', characters=()), TitleName(name='Dan West', category='camera_department', imdb_id='nm3215273', job='second assistant camera', characters=()), TitleName(name='Terry Williams', category='camera_department', imdb_id='nm1247574', job='key grip', characters=()), TitleName(name='Matthew Hannam', category='editor', imdb_id='nm1755315', job=None, characters=()), TitleName(name='Lili Lea Abraham', category='art_department', imdb_id='nm5891690', job='art department assistant', characters=()), TitleName(name='Paul Bowring', category='art_department', imdb_id='nm1445101', job='construction manager', characters=()), TitleName(name='Natalie Forsythe', category='art_department', imdb_id='nm5523918', job='props store person UK', characters=()), TitleName(name='Ellena Francis', category='art_department', imdb_id='nm1074885', job='props trainee', characters=()), TitleName(name='Christopher Galea', category='art_department', imdb_id='nm0301933', job='lead set dresser: toronto unit', characters=()), TitleName(name='Sam Alex Kay', category='art_department', imdb_id='nm5147501', job='set dresser: toronto unit', characters=()), TitleName(name='Sara Knight', category='art_department', imdb_id='nm3468985', job='scenic painter', characters=()), TitleName(name='Shyam Korotania', category='art_department', imdb_id='nm9919526', job='Graphics Assistant Work Experence', characters=()), TitleName(name='Helen Kotsonis', category='art_department', imdb_id='nm3883248', job='on set dresser', characters=()), TitleName(name='Veronique Langdon', category='art_department', imdb_id='nm0486061', job='dressing props', characters=()), TitleName(name='Gary Lock', category='art_department', imdb_id='nm7260137', job='charge hand', characters=()), TitleName(name='Cathy Mac', category='art_department', imdb_id='nm1081220', job='Petty Cash Buyer', characters=()), TitleName(name='Paddy Paddison', category='art_department', imdb_id='nm2147093', job='Standby Art Director', characters=()), TitleName(name='Emily Pope', category='art_department', imdb_id='nm4746809', job='assistant art director: toronto unit', characters=()), TitleName(name='Ewan Robertson', category='art_department', imdb_id='nm0731834', job='property master', characters=()), TitleName(name='Sean Rourke', category='art_department', imdb_id='nm1124834', job='set dresser: toronto unit', characters=()), TitleName(name='Tamsin Scott', category='art_department', imdb_id='nm8421784', job='on-set dresser', characters=()), TitleName(name='Harley Vianini', category='art_department', imdb_id='nm4745533', job='set dresser: toronto unit', characters=()), TitleName(name='Julia Chiavetta', category='script_department', imdb_id='nm2469301', job='script supervisor', characters=()), TitleName(name='Sean Durkin', category='director', imdb_id='nm1699934', job=None, characters=()), TitleName(name='Chris Bottomley', category='sound_department', imdb_id='nm0098715', job='boom operator: Toronto Unit', characters=()), TitleName(name='Kristin Catuogno', category='sound_department', imdb_id='nm6113410', job='adr recordist', characters=()), TitleName(name='Matthew Chan', category='sound_department', imdb_id='nm2050073', job='re-recording mixer', characters=()), TitleName(name='Peter Clements', category='sound_department', imdb_id='nm0166248', job='sound mixer: Toronto Unit', characters=()), TitleName(name='James Cooper', category='sound_department', imdb_id='nm5605952', job='Playback Operator', characters=()), TitleName(name='Mark DeSimone', category='sound_department', imdb_id='nm0221262', job='adr mixer', characters=()), TitleName(name='Paul Germann', category='sound_department', imdb_id='nm0314551', job='supervising sound editor', characters=()), TitleName(name='Stevie Haywood', category='sound_department', imdb_id='nm1084111', job='sound mixer', characters=()), TitleName(name='Thomas Markwick', category='sound_department', imdb_id='nm5244861', job='Sound Assistant', characters=()), TitleName(name='Brennan Mercer', category='sound_department', imdb_id='nm4846050', job='sound effects editor', characters=()), TitleName(name='Sarah Quinn', category='sound_department', imdb_id='nm4371175', job='boom operator: UK', characters=()), TitleName(name='Jason Sharrow', category='sound_department', imdb_id='nm8364317', job='adr mixer', characters=()), TitleName(name='Robert Arsenault', category='transportation_department', imdb_id='nm0037521', job='Picture car wrangler', characters=()), TitleName(name='Andy Blackburn', category='transportation_department', imdb_id='nm5959009', job='transportation captain', characters=()), TitleName(name='Christopher Free', category='transportation_department', imdb_id='nm4984776', job='facilities captain', characters=()), TitleName(name='Debbie Free', category='transportation_department', imdb_id='nm8778106', job='makeup truck', characters=()), TitleName(name='Imran Hussain', category='transportation_department', imdb_id='nm9012934', job='unit driver', characters=()), TitleName(name='Gheorghe Iant', category='transportation_department', imdb_id='nm9099702', job='unit driver', characters=()), TitleName(name='Olsi Mersini', category='transportation_department', imdb_id='nm1017412', job='unit driver', characters=()), TitleName(name='Simon Yearwood', category='transportation_department', imdb_id='nm9012945', job='unit driver', characters=()), TitleName(name='Rosie Carter', category='casting_department', imdb_id='nm9732245', job='extras casting', characters=()), TitleName(name='Patrick Barry', category='editorial_department', imdb_id='nm1002357', job='physical asset manager', characters=()), TitleName(name='Sofie Friis Borup', category='editorial_department', imdb_id='nm3025174', job='colorist', characters=()), TitleName(name='John Bush', category='editorial_department', imdb_id='nm3729034', job='dailies producer', characters=()), TitleName(name='Jake Chapman', category='editorial_department', imdb_id='nm9355802', job='dailies film scanner', characters=()), TitleName(name='James Corless', category='editorial_department', imdb_id='nm2044916', job='head of department: Pinewood Digital', characters=()), TitleName(name='Paul Farquhar', category='editorial_department', imdb_id='nm9425179', job='dailies lab operator', characters=()), TitleName(name='Christopher Frith', category='editorial_department', imdb_id='nm4268793', job='assistant editor', characters=()), TitleName(name='Darren Rae', category='editorial_department', imdb_id='nm3180195', job='colorist: dailies', characters=()), TitleName(name='Adrian Saywell', category='editorial_department', imdb_id='nm1859277', job='senior on-line editor', characters=()), TitleName(name='Jerrett Zaroski', category='editorial_department', imdb_id='nm9217122', job='post-production coordinator', characters=()), TitleName(name='Rowley Irlam', category='stunts', imdb_id='nm0410034', job='stunt coordinator', characters=()), TitleName(name='Wayne Wells', category='stunts', imdb_id='nm0920466', job='stunt coordinator', characters=()), TitleName(name='Sophie Coppola', category='make_up_department', imdb_id='nm6581958', job='dailies hair stylist: crowd', characters=()), TitleName(name='Andrea Cracknell', category='make_up_department', imdb_id='nm7541235', job='crowd daily hair and makeup artist', characters=()), TitleName(name='Peta Dunstall', category='make_up_department', imdb_id='nm0243038', job='key hair stylist', characters=()), TitleName(name='Gerda Lauciute', category='make_up_department', imdb_id='nm3912197', job='hair stylist', characters=()), TitleName(name=\"Cassie O'Brien Pollard\", category='make_up_department', imdb_id='nm4019289', job='crowd hair stylist and make-up artist', characters=()), TitleName(name='Emma Scott', category='make_up_department', imdb_id='nm0779106', job='makeup designer', characters=()), TitleName(name='Denise Stocker', category='make_up_department', imdb_id='nm7282606', job='hair stylist', characters=()), TitleName(name='James Price', category='production_designer', imdb_id='nm1483016', job=None, characters=()), TitleName(name=\"Nikhil D'Souza\", category='location_management', imdb_id='nm5672527', job='assistant location manager', characters=()), TitleName(name='Tabitha Denny-Northover', category='location_management', imdb_id='nm8850964', job='location assistant', characters=()), TitleName(name='Summer Greenwood', category='location_management', imdb_id='nm3615718', job='location marshal', characters=()), TitleName(name='Tony Hood', category='location_management', imdb_id='nm0393526', job='location manager', characters=()), TitleName(name='Crystal North', category='location_management', imdb_id='nm1055399', job='location production assistant', characters=()), TitleName(name='Deborah Nutt', category='location_management', imdb_id='nm3120236', job='assistant location manager', characters=()), TitleName(name='Tristan Plant', category='location_management', imdb_id='nm2199786', job='location manager: toronto unit', characters=()), TitleName(name='George Price', category='location_management', imdb_id='nm9947249', job='location assistant', characters=()), TitleName(name='Ed Guiney', category='producer', imdb_id='nm0347384', job='executive producer', characters=()), TitleName(name='Amy Jackson', category='producer', imdb_id='nm2770727', job='producer', characters=()), TitleName(name='Andrew Lowe', category='producer', imdb_id='nm1103466', job='producer', characters=()), TitleName(name='Kasia Malipan', category='producer', imdb_id='nm3914900', job='co-producer', characters=()), TitleName(name='Christina Piovesan', category='producer', imdb_id='nm1114974', job='producer', characters=()), TitleName(name='Derrin Schlesinger', category='producer', imdb_id='nm0772251', job='producer', characters=()), TitleName(name='Noah Segal', category='producer', imdb_id='nm0781839', job='co-producer', characters=()), TitleName(name='Sean Durkin', category='writer', imdb_id='nm1699934', job=None, characters=()), TitleName(name='Jason Hayes', category='visual_effects', imdb_id='nm4257720', job='visual effects supervisor', characters=()), TitleName(name='John Kearns', category='visual_effects', imdb_id='nm2275363', job='digital restoration', characters=()), TitleName(name='Jerry Seguin', category='visual_effects', imdb_id='nm2130794', job='digital compositor', characters=()), TitleName(name='Andrew Bonner', category='production_manager', imdb_id='nm1309461', job='production manager', characters=()), TitleName(name='Sarah Louise Hardwick', category='costume_department', imdb_id='nm7731389', job='costume assistant', characters=()), TitleName(name='Nicole Hayter', category='costume_department', imdb_id='nm8721042', job='costume assistant', characters=()), TitleName(name='Jennifer Lantz', category='costume_department', imdb_id='nm0487220', job='Canada', characters=()), TitleName(name='Jessie Metcalf', category='costume_department', imdb_id='nm5533458', job='Crowd costume supervisor', characters=()), TitleName(name='Katie J. Newham', category='costume_department', imdb_id='nm4823183', job='costume supervisor', characters=())), directors=(TitleName(name='Sean Durkin', category='director', imdb_id='nm1699934', job=None, characters=()),), stars=(TitleName(name='Carrie Coon', category='actress', imdb_id='nm4689420', job=None, characters=()), TitleName(name='Jude Law', category='actor', imdb_id='nm0000179', job=None, characters=()), TitleName(name='Charlie Shotwell', category='actor', imdb_id='nm6339026', job=None, characters=('Benjamin',)), TitleName(name='Adeel Akhtar', category='actor', imdb_id='nm2253821', job=None, characters=('Steve',))), image=None, episodes=(), rating_count=0, releases=(), season=None, episode=None, rating=None, plot_outline='Life for an entrepreneur and his American family begin to take a twisted turn after moving into an English country manor.', release_date=None, runtime=None)"
      ]
     },
     "execution_count": 27,
     "metadata": {},
     "output_type": "execute_result"
    }
   ],
   "source": [
    "sample_movie"
   ]
  },
  {
   "cell_type": "code",
   "execution_count": 19,
   "metadata": {},
   "outputs": [
    {
     "name": "stdout",
     "output_type": "stream",
     "text": [
      "certification\n",
      "creators\n",
      "credits\n",
      "directors\n",
      "episode\n",
      "episodes\n",
      "genres\n",
      "image\n",
      "imdb_id\n",
      "plot_outline\n",
      "rating\n",
      "rating_count\n",
      "release_date\n",
      "releases\n",
      "runtime\n",
      "season\n",
      "stars\n",
      "title\n",
      "type\n",
      "writers\n",
      "year\n"
     ]
    }
   ],
   "source": [
    "# What information can I get about this movie?\n",
    "print('\\n'.join([x for x in dir(sample_movie) if not x.startswith('__')]))"
   ]
  },
  {
   "cell_type": "code",
   "execution_count": 20,
   "metadata": {},
   "outputs": [
    {
     "data": {
      "text/plain": [
       "'Episode #1.13'"
      ]
     },
     "execution_count": 20,
     "metadata": {},
     "output_type": "execute_result"
    }
   ],
   "source": [
    "sample_movie.title"
   ]
  },
  {
   "cell_type": "code",
   "execution_count": 116,
   "metadata": {},
   "outputs": [
    {
     "data": {
      "text/html": [
       "\n",
       "    <div style=\"background-color:#FFDDDD\">\n",
       "    <h2> Warning! </h2>\n",
       "    <p> This code below is meant to be an example of what you can do. <br>\n",
       "        It is not guaranteed to work always, and will need to be tweaked!\n",
       "    </p>\n",
       "    </div>\n"
      ],
      "text/plain": [
       "<IPython.core.display.HTML object>"
      ]
     },
     "metadata": {},
     "output_type": "display_data"
    }
   ],
   "source": [
    "html = \"\"\"\n",
    "    <div style=\"background-color:#FFDDDD\">\n",
    "    <h2> Warning! </h2>\n",
    "    <p> This code below is meant to be an example of what you can do. <br>\n",
    "        It is not guaranteed to work always, and will need to be tweaked!\n",
    "    </p>\n",
    "    </div>\n",
    "\"\"\"\n",
    "display(HTML(html))"
   ]
  },
  {
   "cell_type": "markdown",
   "metadata": {},
   "source": [
    "#### Box office numbers"
   ]
  },
  {
   "cell_type": "code",
   "execution_count": 117,
   "metadata": {},
   "outputs": [
    {
     "name": "stdout",
     "output_type": "stream",
     "text": [
      "Total Domestic Earnings: $38,371,200\n",
      "Total International Earnings: $40,000,000\n",
      "Weekly Domestic Earnings:\n",
      "\tOct 26-Nov 1 \t: $5,560,930\n",
      "\tNov 2-8 \t: $5,752,018\n",
      "\tNov 9-15 \t: $4,764,277\n",
      "\tNov 16-22 \t: $5,208,881\n",
      "\tNov 23-29 \t: $4,851,910\n",
      "\tNov 30-Dec 6 \t: $3,741,759\n",
      "\tDec 7-13 \t: $2,002,925\n",
      "\tDec 14-20 \t: $1,399,646\n",
      "\tDec 21-27 \t: $722,260\n",
      "\tJan 11-17 \t: $752,723\n",
      "\tJan 18-24 \t: $618,670\n"
     ]
    }
   ],
   "source": [
    "# Let's experiment with Terminator\n",
    "imdb_id = 'tt0088247'\n",
    "\n",
    "# Fetch the box office numbers\n",
    "base = 'https://www.boxofficemojo.com'\n",
    "url = base + '/title/' + imdb_id\n",
    "source = urllib.request.urlopen(url).read()\n",
    "soup = BeautifulSoup(source,'lxml')\n",
    "\n",
    "table = soup('th', text=re.compile(r'Release Group'))[0].parent.parent\n",
    "group = table.findAll('tr', recursive=False)[1].find('a').get('href')\n",
    "url = base + group\n",
    "\n",
    "# Get total earnings domestic and international\n",
    "source = urllib.request.urlopen(url).read()\n",
    "soup = BeautifulSoup(source,'lxml')\n",
    "earnings = soup('h2', text=re.compile(r'Rollout'))[0].parent.parent.findAll('div')\n",
    "domestic = earnings[1].find('span', {'class': 'money'}).get_text()\n",
    "domestic_url = earnings[1].find('a').get('href')\n",
    "international = earnings[2].find('span', {'class': 'money'}).get_text()\n",
    "\n",
    "# Get weekly domestic earnings\n",
    "url = base + domestic_url\n",
    "url = url[:url.rfind('/')] + '/weekly/'\n",
    "source = urllib.request.urlopen(url).read()\n",
    "soup = BeautifulSoup(source,'lxml')\n",
    "table = soup.find('div', {'class':'a-section imdb-scroll-table-inner'}).findAll('tr')\n",
    "weekly = []\n",
    "for tr in table[1:]:\n",
    "    date = tr.findAll('td')[0].get_text()\n",
    "    earning = tr.findAll('td')[2].get_text()\n",
    "    weekly.append((date, earning))\n",
    "\n",
    "# Print the values we've just got!\n",
    "print(\"Total Domestic Earnings: %s\" % domestic)\n",
    "print(\"Total International Earnings: %s\" % international)\n",
    "print(\"Weekly Domestic Earnings:\")\n",
    "for date, earning in weekly:\n",
    "    print(\"\\t%s \\t: %s\" % (date, earning))"
   ]
  },
  {
   "cell_type": "markdown",
   "metadata": {},
   "source": [
    "## Other resources!"
   ]
  },
  {
   "cell_type": "markdown",
   "metadata": {},
   "source": [
    "This assignment doesn't have a restriction on where you can look for data.\n",
    "Further, we don't mind how you collect the data, or what data you collect.\n",
    "\n",
    "Here are some additional resources for this example, and you can customize it for your own!\n",
    "* Arnold Schwarzenegger Kill Count: https://www.youtube.com/watch?v=OE6jpTaOYMU\n",
    "* Arnold Schwarzenegger Top Quotes: https://www.youtube.com/watch?v=pDxn0Xfqkgw\n",
    "\n",
    "You could think about the IMDB network as a graph, with different actors connected through movies.\n",
    "\n",
    "Some other useful libraries/ databases:\n",
    "* IMDBPy\n",
    "* http://www.omdbapi.com/"
   ]
  }
 ],
 "metadata": {
  "kernelspec": {
   "display_name": "Python 3",
   "language": "python",
   "name": "python3"
  },
  "language_info": {
   "codemirror_mode": {
    "name": "ipython",
    "version": 3
   },
   "file_extension": ".py",
   "mimetype": "text/x-python",
   "name": "python",
   "nbconvert_exporter": "python",
   "pygments_lexer": "ipython3",
   "version": "3.7.2"
  }
 },
 "nbformat": 4,
 "nbformat_minor": 2
}
